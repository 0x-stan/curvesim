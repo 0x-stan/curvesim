{
 "cells": [
  {
   "cell_type": "code",
   "execution_count": 1,
   "id": "d0cabf53",
   "metadata": {},
   "outputs": [],
   "source": [
    "%load_ext autoreload\n",
    "%autoreload 2"
   ]
  },
  {
   "cell_type": "code",
   "execution_count": 2,
   "id": "084b3022",
   "metadata": {},
   "outputs": [],
   "source": [
    "import sys\n",
    "sys.path.insert(0, \"..\")"
   ]
  },
  {
   "cell_type": "code",
   "execution_count": 3,
   "id": "7e21d8ff",
   "metadata": {},
   "outputs": [],
   "source": [
    "import curvesim"
   ]
  },
  {
   "cell_type": "code",
   "execution_count": 4,
   "id": "526c1234",
   "metadata": {},
   "outputs": [],
   "source": [
    "pool_address = \"0xbebc44782c7db0a1a60cb6fe97d0b483032ff1c7\"\n",
    "metapool_address = \"0x5a6a4d54456819380173272a5e8e9b9904bdf41b\"\n",
    "cryptopool_address = \"0x3211C6cBeF1429da3D0d58494938299C92Ad5860\""
   ]
  },
  {
   "cell_type": "code",
   "execution_count": 5,
   "id": "6d28ee5d",
   "metadata": {},
   "outputs": [],
   "source": [
    "pool = curvesim.pool.get(pool_address)"
   ]
  },
  {
   "cell_type": "code",
   "execution_count": 6,
   "id": "119f655b",
   "metadata": {},
   "outputs": [],
   "source": [
    "metapool = curvesim.pool.get(metapool_address)"
   ]
  },
  {
   "cell_type": "code",
   "execution_count": 7,
   "id": "02df6cc4",
   "metadata": {},
   "outputs": [],
   "source": [
    "cryptopool = curvesim.pool.get(cryptopool_address)"
   ]
  },
  {
   "cell_type": "code",
   "execution_count": 8,
   "id": "abc378e9",
   "metadata": {},
   "outputs": [
    {
     "data": {
      "text/plain": [
       "['STG', 'USDC']"
      ]
     },
     "execution_count": 8,
     "metadata": {},
     "output_type": "execute_result"
    }
   ],
   "source": [
    "cryptopool.coin_names"
   ]
  },
  {
   "cell_type": "code",
   "execution_count": 9,
   "id": "f61a525c",
   "metadata": {},
   "outputs": [
    {
     "data": {
      "text/plain": [
       "['0xAf5191B0De278C7286d6C7CC6ab6BB8A73bA2Cd6',\n",
       " '0xA0b86991c6218b36c1d19D4a2e9Eb0cE3606eB48']"
      ]
     },
     "execution_count": 9,
     "metadata": {},
     "output_type": "execute_result"
    }
   ],
   "source": [
    "cryptopool.coin_addresses"
   ]
  },
  {
   "cell_type": "code",
   "execution_count": 10,
   "id": "46356c76",
   "metadata": {},
   "outputs": [
    {
     "data": {
      "text/plain": [
       "[18, 6]"
      ]
     },
     "execution_count": 10,
     "metadata": {},
     "output_type": "execute_result"
    }
   ],
   "source": [
    "cryptopool.coin_decimals"
   ]
  },
  {
   "cell_type": "code",
   "execution_count": 11,
   "id": "e1333719",
   "metadata": {},
   "outputs": [],
   "source": [
    "def format_balances(balances, decimals):\n",
    "    return [f\"{b//10**d:,}\" for b,d in zip(balances, decimals)]"
   ]
  },
  {
   "cell_type": "code",
   "execution_count": 12,
   "id": "4dc8acbe",
   "metadata": {},
   "outputs": [
    {
     "data": {
      "text/plain": [
       "['11,161,664', '7,078,335']"
      ]
     },
     "execution_count": 12,
     "metadata": {},
     "output_type": "execute_result"
    }
   ],
   "source": [
    "format_balances(cryptopool.balances, cryptopool.coin_decimals)"
   ]
  },
  {
   "cell_type": "code",
   "execution_count": 13,
   "id": "303a9d69",
   "metadata": {},
   "outputs": [
    {
     "data": {
      "text/plain": [
       "[11161664520638072828472114, 7078335678983]"
      ]
     },
     "execution_count": 13,
     "metadata": {},
     "output_type": "execute_result"
    }
   ],
   "source": [
    "cryptopool.balances"
   ]
  },
  {
   "cell_type": "code",
   "execution_count": 14,
   "id": "25320607",
   "metadata": {},
   "outputs": [
    {
     "data": {
      "text/plain": [
       "[1, 1000000000000]"
      ]
     },
     "execution_count": 14,
     "metadata": {},
     "output_type": "execute_result"
    }
   ],
   "source": [
    "cryptopool.precisions"
   ]
  },
  {
   "cell_type": "code",
   "execution_count": 15,
   "id": "bd9f65b6",
   "metadata": {},
   "outputs": [
    {
     "data": {
      "text/plain": [
       "(79300065830404, 7930799663)"
      ]
     },
     "execution_count": 15,
     "metadata": {},
     "output_type": "execute_result"
    }
   ],
   "source": [
    "i = 1\n",
    "j = 2\n",
    "dx = 10**4 * 10**18\n",
    "\n",
    "# with pool.use_snapshot_context():  # reverts balances after each exchange\n",
    "pool.exchange(i, j, dx)"
   ]
  },
  {
   "cell_type": "code",
   "execution_count": 16,
   "id": "da9e3b96",
   "metadata": {},
   "outputs": [
    {
     "data": {
      "text/plain": [
       "(2275691194611, 10262185120)"
      ]
     },
     "execution_count": 16,
     "metadata": {},
     "output_type": "execute_result"
    }
   ],
   "source": [
    "i = 0\n",
    "j = 1\n",
    "dx = 10**4 * 10**18\n",
    "\n",
    "cryptopool.exchange(i, j, dx)"
   ]
  },
  {
   "cell_type": "code",
   "execution_count": 33,
   "id": "6e8bbc47",
   "metadata": {},
   "outputs": [
    {
     "data": {
      "text/plain": [
       "{'pool': {'name': 'Curve.fi DAI/USDC/USDT',\n",
       "  'address': '0xbebc44782c7db0a1a60cb6fe97d0b483032ff1c7',\n",
       "  'symbol': '3Crv',\n",
       "  'metapool': False,\n",
       "  'basePool': '0x0000000000000000000000000000000000000000',\n",
       "  'coins': ['0x6b175474e89094c44da98b954eedeac495271d0f',\n",
       "   '0xa0b86991c6218b36c1d19d4a2e9eb0ce3606eb48',\n",
       "   '0xdac17f958d2ee523a2206206994597c13d831ec7'],\n",
       "  'coinNames': ['DAI', 'USDC', 'USDT'],\n",
       "  'coinDecimals': ['18', '6', '6'],\n",
       "  'poolType': 'REGISTRY_V1',\n",
       "  'isV2': False},\n",
       " 'A': '2000',\n",
       " 'fee': '0.0001',\n",
       " 'adminFee': '0',\n",
       " 'offPegFeeMultiplier': '0',\n",
       " 'reserves': ['150726805240173777552867109',\n",
       "  '158272436496568',\n",
       "  '79307996630068'],\n",
       " 'normalizedReserves': ['150726805240173777552867109',\n",
       "  '158272436496568000000000000',\n",
       "  '79307996630068000000000000'],\n",
       " 'virtualPrice': '1025788038644661906',\n",
       " 'timestamp': '1684195200',\n",
       " 'gamma': '0',\n",
       " 'midFee': '0',\n",
       " 'outFee': '0',\n",
       " 'feeGamma': '0',\n",
       " 'allowedExtraProfit': '0',\n",
       " 'adjustmentStep': '0',\n",
       " 'maHalfTime': '0',\n",
       " 'priceScale': '0',\n",
       " 'priceOracle': '0',\n",
       " 'lastPrices': '0',\n",
       " 'lastPricesTimestamp': '0',\n",
       " 'xcpProfit': '0',\n",
       " 'xcpProfitA': '0'}"
      ]
     },
     "execution_count": 33,
     "metadata": {},
     "output_type": "execute_result"
    }
   ],
   "source": [
    "await curvesim.network.subgraph._pool_snapshot(pool_address, \"mainnet\")\n"
   ]
  },
  {
   "cell_type": "code",
   "execution_count": 34,
   "id": "905bff48",
   "metadata": {},
   "outputs": [
    {
     "data": {
      "text/plain": [
       "{'pool': {'name': 'Curve.fi Factory USD Metapool: Magic Internet Money 3Pool',\n",
       "  'address': '0x5a6a4d54456819380173272a5e8e9b9904bdf41b',\n",
       "  'symbol': 'MIM-3LP3CRV-f',\n",
       "  'metapool': True,\n",
       "  'basePool': '0xbebc44782c7db0a1a60cb6fe97d0b483032ff1c7',\n",
       "  'coins': ['0x99d8a9c45b2eca8864373a26d1459e3dff1e17f3',\n",
       "   '0x6c3f90f043a72fa612cbac8115ee7e52bde6e490'],\n",
       "  'coinNames': ['MIM', '3Crv'],\n",
       "  'coinDecimals': ['18', '18'],\n",
       "  'poolType': 'METAPOOL_FACTORY',\n",
       "  'isV2': False},\n",
       " 'A': '2000',\n",
       " 'fee': '0.0004',\n",
       " 'adminFee': '0',\n",
       " 'offPegFeeMultiplier': '0',\n",
       " 'reserves': ['74569118922748264655468285', '18934862404578447176264402'],\n",
       " 'normalizedReserves': ['74569118922748264655468285',\n",
       "  '18934862404578447176264402'],\n",
       " 'virtualPrice': '1010568704993907957',\n",
       " 'timestamp': '1684195200',\n",
       " 'gamma': '0',\n",
       " 'midFee': '0',\n",
       " 'outFee': '0',\n",
       " 'feeGamma': '0',\n",
       " 'allowedExtraProfit': '0',\n",
       " 'adjustmentStep': '0',\n",
       " 'maHalfTime': '0',\n",
       " 'priceScale': '0',\n",
       " 'priceOracle': '0',\n",
       " 'lastPrices': '0',\n",
       " 'lastPricesTimestamp': '0',\n",
       " 'xcpProfit': '0',\n",
       " 'xcpProfitA': '0'}"
      ]
     },
     "execution_count": 34,
     "metadata": {},
     "output_type": "execute_result"
    }
   ],
   "source": [
    "await curvesim.network.subgraph._pool_snapshot(metapool_address, \"mainnet\")\n"
   ]
  },
  {
   "cell_type": "code",
   "execution_count": 35,
   "id": "9537d513",
   "metadata": {},
   "outputs": [
    {
     "data": {
      "text/plain": [
       "{'pool': {'name': 'Curve.fi Factory Crypto Pool: STG/USDC',\n",
       "  'address': '0x3211c6cbef1429da3d0d58494938299c92ad5860',\n",
       "  'symbol': 'STGUSDC-f',\n",
       "  'metapool': False,\n",
       "  'basePool': '0x0000000000000000000000000000000000000000',\n",
       "  'coins': ['0xaf5191b0de278c7286d6c7cc6ab6bb8a73ba2cd6',\n",
       "   '0xa0b86991c6218b36c1d19d4a2e9eb0ce3606eb48'],\n",
       "  'coinNames': ['STG', 'USDC'],\n",
       "  'coinDecimals': ['18', '6'],\n",
       "  'poolType': 'CRYPTO_FACTORY',\n",
       "  'isV2': True},\n",
       " 'A': '400000',\n",
       " 'fee': '0.0030331143',\n",
       " 'adminFee': '0',\n",
       " 'offPegFeeMultiplier': '0',\n",
       " 'reserves': ['11161664520638072828472114', '7078335678983'],\n",
       " 'normalizedReserves': ['11161664520638072828472114',\n",
       "  '7078335678983000000000000'],\n",
       " 'virtualPrice': '1036601447252099207',\n",
       " 'timestamp': '1684195200',\n",
       " 'gamma': '72500000000000',\n",
       " 'midFee': '26000000',\n",
       " 'outFee': '45000000',\n",
       " 'feeGamma': '230000000000000',\n",
       " 'allowedExtraProfit': '2000000000000',\n",
       " 'adjustmentStep': '146000000000000',\n",
       " 'maHalfTime': '600',\n",
       " 'priceScale': '1551100075112495368',\n",
       " 'priceOracle': '1555652245635952578',\n",
       " 'lastPrices': '1559014075844352082',\n",
       " 'lastPricesTimestamp': '1684194719',\n",
       " 'xcpProfit': '1073156239676554228',\n",
       " 'xcpProfitA': '1073131037922835319'}"
      ]
     },
     "execution_count": 35,
     "metadata": {},
     "output_type": "execute_result"
    }
   ],
   "source": [
    "await curvesim.network.subgraph._pool_snapshot(cryptopool_address, \"mainnet\")\n"
   ]
  },
  {
   "cell_type": "code",
   "execution_count": null,
   "id": "31359403",
   "metadata": {},
   "outputs": [],
   "source": []
  }
 ],
 "metadata": {
  "kernelspec": {
   "display_name": "Python 3 (ipykernel)",
   "language": "python",
   "name": "python3"
  },
  "language_info": {
   "codemirror_mode": {
    "name": "ipython",
    "version": 3
   },
   "file_extension": ".py",
   "mimetype": "text/x-python",
   "name": "python",
   "nbconvert_exporter": "python",
   "pygments_lexer": "ipython3",
   "version": "3.8.2"
  }
 },
 "nbformat": 4,
 "nbformat_minor": 5
}
